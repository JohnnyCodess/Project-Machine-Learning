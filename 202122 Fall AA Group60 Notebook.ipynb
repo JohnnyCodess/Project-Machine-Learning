{
 "cells": [
  {
   "cell_type": "markdown",
   "metadata": {},
   "source": [
    "<b><font size=\"6\">Techscape</font><a class=\"anchor\"><a id='toc'></a></b><br>"
   ]
  },
  {
   "cell_type": "code",
   "execution_count": null,
   "metadata": {},
   "outputs": [],
   "source": [
    "# Johnny esteve aqui"
   ]
  },
  {
   "cell_type": "code",
   "execution_count": 52,
   "metadata": {},
   "outputs": [],
   "source": [
    "import pandas as pd\n",
    "import math\n",
    "import numpy as np\n",
    "\n",
    "import seaborn as sns\n",
    "import matplotlib.pyplot as plt"
   ]
  },
  {
   "cell_type": "code",
   "execution_count": 53,
   "metadata": {
    "ExecuteTime": {
     "end_time": "2020-10-30T11:01:49.757920Z",
     "start_time": "2020-10-30T11:01:48.136085Z"
    }
   },
   "outputs": [
    {
     "data": {
      "text/html": [
       "<div>\n",
       "<style scoped>\n",
       "    .dataframe tbody tr th:only-of-type {\n",
       "        vertical-align: middle;\n",
       "    }\n",
       "\n",
       "    .dataframe tbody tr th {\n",
       "        vertical-align: top;\n",
       "    }\n",
       "\n",
       "    .dataframe thead th {\n",
       "        text-align: right;\n",
       "    }\n",
       "</style>\n",
       "<table border=\"1\" class=\"dataframe\">\n",
       "  <thead>\n",
       "    <tr style=\"text-align: right;\">\n",
       "      <th></th>\n",
       "      <th>Access_ID</th>\n",
       "      <th>Date</th>\n",
       "      <th>AccountMng_Pages</th>\n",
       "      <th>AccountMng_Duration</th>\n",
       "      <th>FAQ_Pages</th>\n",
       "      <th>FAQ_Duration</th>\n",
       "      <th>Product_Pages</th>\n",
       "      <th>Product_Duration</th>\n",
       "      <th>GoogleAnalytics_BounceRate</th>\n",
       "      <th>GoogleAnalytics_ExitRate</th>\n",
       "      <th>GoogleAnalytics_PageValue</th>\n",
       "      <th>OS</th>\n",
       "      <th>Browser</th>\n",
       "      <th>Country</th>\n",
       "      <th>Type_of_Traffic</th>\n",
       "      <th>Type_of_Visitor</th>\n",
       "      <th>Buy</th>\n",
       "    </tr>\n",
       "  </thead>\n",
       "  <tbody>\n",
       "    <tr>\n",
       "      <th>0</th>\n",
       "      <td>102863333</td>\n",
       "      <td>21-Mar-20</td>\n",
       "      <td>0</td>\n",
       "      <td>0.0</td>\n",
       "      <td>0</td>\n",
       "      <td>0.0</td>\n",
       "      <td>3</td>\n",
       "      <td>64.0000</td>\n",
       "      <td>0.0000</td>\n",
       "      <td>0.0667</td>\n",
       "      <td>0.0000</td>\n",
       "      <td>MacOSX</td>\n",
       "      <td>2</td>\n",
       "      <td>Portugal</td>\n",
       "      <td>1</td>\n",
       "      <td>Returner</td>\n",
       "      <td>0</td>\n",
       "    </tr>\n",
       "    <tr>\n",
       "      <th>1</th>\n",
       "      <td>103117814</td>\n",
       "      <td>20-May-20</td>\n",
       "      <td>0</td>\n",
       "      <td>0.0</td>\n",
       "      <td>0</td>\n",
       "      <td>0.0</td>\n",
       "      <td>23</td>\n",
       "      <td>684.5000</td>\n",
       "      <td>0.0217</td>\n",
       "      <td>0.0449</td>\n",
       "      <td>0.0000</td>\n",
       "      <td>Windows</td>\n",
       "      <td>2</td>\n",
       "      <td>France</td>\n",
       "      <td>6</td>\n",
       "      <td>Returner</td>\n",
       "      <td>0</td>\n",
       "    </tr>\n",
       "    <tr>\n",
       "      <th>2</th>\n",
       "      <td>103201891</td>\n",
       "      <td>4-Dec-20</td>\n",
       "      <td>0</td>\n",
       "      <td>0.0</td>\n",
       "      <td>0</td>\n",
       "      <td>0.0</td>\n",
       "      <td>8</td>\n",
       "      <td>95.0000</td>\n",
       "      <td>0.0250</td>\n",
       "      <td>0.0583</td>\n",
       "      <td>0.0000</td>\n",
       "      <td>Windows</td>\n",
       "      <td>4</td>\n",
       "      <td>Italy</td>\n",
       "      <td>1</td>\n",
       "      <td>Returner</td>\n",
       "      <td>0</td>\n",
       "    </tr>\n",
       "    <tr>\n",
       "      <th>3</th>\n",
       "      <td>103226087</td>\n",
       "      <td>22-Dec-20</td>\n",
       "      <td>0</td>\n",
       "      <td>0.0</td>\n",
       "      <td>0</td>\n",
       "      <td>0.0</td>\n",
       "      <td>9</td>\n",
       "      <td>608.7500</td>\n",
       "      <td>0.0000</td>\n",
       "      <td>0.0250</td>\n",
       "      <td>42.4225</td>\n",
       "      <td>Windows</td>\n",
       "      <td>2</td>\n",
       "      <td>United Kingdom</td>\n",
       "      <td>2</td>\n",
       "      <td>Returner</td>\n",
       "      <td>1</td>\n",
       "    </tr>\n",
       "    <tr>\n",
       "      <th>4</th>\n",
       "      <td>103234445</td>\n",
       "      <td>24-Nov-20</td>\n",
       "      <td>0</td>\n",
       "      <td>0.0</td>\n",
       "      <td>2</td>\n",
       "      <td>386.0</td>\n",
       "      <td>36</td>\n",
       "      <td>1609.9397</td>\n",
       "      <td>0.0000</td>\n",
       "      <td>0.0093</td>\n",
       "      <td>12.5033</td>\n",
       "      <td>Windows</td>\n",
       "      <td>2</td>\n",
       "      <td>Spain</td>\n",
       "      <td>3</td>\n",
       "      <td>Returner</td>\n",
       "      <td>1</td>\n",
       "    </tr>\n",
       "  </tbody>\n",
       "</table>\n",
       "</div>"
      ],
      "text/plain": [
       "   Access_ID       Date  AccountMng_Pages  AccountMng_Duration  FAQ_Pages  \\\n",
       "0  102863333  21-Mar-20                 0                  0.0          0   \n",
       "1  103117814  20-May-20                 0                  0.0          0   \n",
       "2  103201891   4-Dec-20                 0                  0.0          0   \n",
       "3  103226087  22-Dec-20                 0                  0.0          0   \n",
       "4  103234445  24-Nov-20                 0                  0.0          2   \n",
       "\n",
       "   FAQ_Duration  Product_Pages  Product_Duration  GoogleAnalytics_BounceRate  \\\n",
       "0           0.0              3           64.0000                      0.0000   \n",
       "1           0.0             23          684.5000                      0.0217   \n",
       "2           0.0              8           95.0000                      0.0250   \n",
       "3           0.0              9          608.7500                      0.0000   \n",
       "4         386.0             36         1609.9397                      0.0000   \n",
       "\n",
       "   GoogleAnalytics_ExitRate  GoogleAnalytics_PageValue       OS  Browser  \\\n",
       "0                    0.0667                     0.0000   MacOSX        2   \n",
       "1                    0.0449                     0.0000  Windows        2   \n",
       "2                    0.0583                     0.0000  Windows        4   \n",
       "3                    0.0250                    42.4225  Windows        2   \n",
       "4                    0.0093                    12.5033  Windows        2   \n",
       "\n",
       "          Country  Type_of_Traffic Type_of_Visitor  Buy  \n",
       "0        Portugal                1        Returner    0  \n",
       "1          France                6        Returner    0  \n",
       "2           Italy                1        Returner    0  \n",
       "3  United Kingdom                2        Returner    1  \n",
       "4           Spain                3        Returner    1  "
      ]
     },
     "execution_count": 53,
     "metadata": {},
     "output_type": "execute_result"
    }
   ],
   "source": [
    "techscape = pd.read_csv('train.csv')\n",
    "techscape.head()"
   ]
  },
  {
   "cell_type": "code",
   "execution_count": 54,
   "metadata": {},
   "outputs": [],
   "source": [
    "#techscape.GoogleAnalytics_PageValue.value_counts()"
   ]
  },
  {
   "cell_type": "code",
   "execution_count": 55,
   "metadata": {},
   "outputs": [
    {
     "name": "stdout",
     "output_type": "stream",
     "text": [
      "<class 'pandas.core.frame.DataFrame'>\n",
      "RangeIndex: 9999 entries, 0 to 9998\n",
      "Data columns (total 17 columns):\n",
      " #   Column                      Non-Null Count  Dtype  \n",
      "---  ------                      --------------  -----  \n",
      " 0   Access_ID                   9999 non-null   int64  \n",
      " 1   Date                        9999 non-null   object \n",
      " 2   AccountMng_Pages            9999 non-null   int64  \n",
      " 3   AccountMng_Duration         9999 non-null   float64\n",
      " 4   FAQ_Pages                   9999 non-null   int64  \n",
      " 5   FAQ_Duration                9999 non-null   float64\n",
      " 6   Product_Pages               9999 non-null   int64  \n",
      " 7   Product_Duration            9999 non-null   float64\n",
      " 8   GoogleAnalytics_BounceRate  9999 non-null   float64\n",
      " 9   GoogleAnalytics_ExitRate    9999 non-null   float64\n",
      " 10  GoogleAnalytics_PageValue   9999 non-null   float64\n",
      " 11  OS                          9999 non-null   object \n",
      " 12  Browser                     9999 non-null   int64  \n",
      " 13  Country                     9999 non-null   object \n",
      " 14  Type_of_Traffic             9999 non-null   int64  \n",
      " 15  Type_of_Visitor             9999 non-null   object \n",
      " 16  Buy                         9999 non-null   int64  \n",
      "dtypes: float64(6), int64(7), object(4)\n",
      "memory usage: 1.3+ MB\n"
     ]
    }
   ],
   "source": [
    "# No missing values\n",
    "techscape.info()"
   ]
  },
  {
   "cell_type": "code",
   "execution_count": 56,
   "metadata": {},
   "outputs": [
    {
     "name": "stdout",
     "output_type": "stream",
     "text": [
      "<class 'pandas.core.frame.DataFrame'>\n",
      "RangeIndex: 9999 entries, 0 to 9998\n",
      "Data columns (total 17 columns):\n",
      " #   Column                      Non-Null Count  Dtype         \n",
      "---  ------                      --------------  -----         \n",
      " 0   Access_ID                   9999 non-null   string        \n",
      " 1   Date                        9999 non-null   datetime64[ns]\n",
      " 2   AccountMng_Pages            9999 non-null   int64         \n",
      " 3   AccountMng_Duration         9999 non-null   float64       \n",
      " 4   FAQ_Pages                   9999 non-null   int64         \n",
      " 5   FAQ_Duration                9999 non-null   float64       \n",
      " 6   Product_Pages               9999 non-null   int64         \n",
      " 7   Product_Duration            9999 non-null   float64       \n",
      " 8   GoogleAnalytics_BounceRate  9999 non-null   float64       \n",
      " 9   GoogleAnalytics_ExitRate    9999 non-null   float64       \n",
      " 10  GoogleAnalytics_PageValue   9999 non-null   float64       \n",
      " 11  OS                          9999 non-null   string        \n",
      " 12  Browser                     9999 non-null   int64         \n",
      " 13  Country                     9999 non-null   string        \n",
      " 14  Type_of_Traffic             9999 non-null   int64         \n",
      " 15  Type_of_Visitor             9999 non-null   string        \n",
      " 16  Buy                         9999 non-null   int64         \n",
      "dtypes: datetime64[ns](1), float64(6), int64(6), string(4)\n",
      "memory usage: 1.3 MB\n"
     ]
    }
   ],
   "source": [
    "# Change types of variables\n",
    "\n",
    "# ID does not make sense to be a int\n",
    "techscape.Access_ID = techscape.Access_ID.astype('string') \n",
    "\n",
    "# Tranform Date into a datetime format\n",
    "techscape.Date = pd.to_datetime(techscape.Date)\n",
    "\n",
    "techscape.OS = techscape.OS.astype('string') \n",
    "\n",
    "\n",
    "techscape.Country = techscape.Country.astype('string') \n",
    "\n",
    "\n",
    "techscape.Type_of_Visitor = techscape.Type_of_Visitor.astype('string') \n",
    "\n",
    "techscape.info()"
   ]
  },
  {
   "cell_type": "code",
   "execution_count": 57,
   "metadata": {},
   "outputs": [
    {
     "data": {
      "text/html": [
       "<div>\n",
       "<style scoped>\n",
       "    .dataframe tbody tr th:only-of-type {\n",
       "        vertical-align: middle;\n",
       "    }\n",
       "\n",
       "    .dataframe tbody tr th {\n",
       "        vertical-align: top;\n",
       "    }\n",
       "\n",
       "    .dataframe thead th {\n",
       "        text-align: right;\n",
       "    }\n",
       "</style>\n",
       "<table border=\"1\" class=\"dataframe\">\n",
       "  <thead>\n",
       "    <tr style=\"text-align: right;\">\n",
       "      <th></th>\n",
       "      <th>count</th>\n",
       "      <th>mean</th>\n",
       "      <th>std</th>\n",
       "      <th>min</th>\n",
       "      <th>25%</th>\n",
       "      <th>50%</th>\n",
       "      <th>75%</th>\n",
       "      <th>max</th>\n",
       "    </tr>\n",
       "  </thead>\n",
       "  <tbody>\n",
       "    <tr>\n",
       "      <th>AccountMng_Pages</th>\n",
       "      <td>9999.0</td>\n",
       "      <td>2.324232</td>\n",
       "      <td>3.340676</td>\n",
       "      <td>0.0</td>\n",
       "      <td>0.0</td>\n",
       "      <td>1.0</td>\n",
       "      <td>4.0</td>\n",
       "      <td>27.0</td>\n",
       "    </tr>\n",
       "    <tr>\n",
       "      <th>FAQ_Pages</th>\n",
       "      <td>9999.0</td>\n",
       "      <td>0.508051</td>\n",
       "      <td>1.279390</td>\n",
       "      <td>0.0</td>\n",
       "      <td>0.0</td>\n",
       "      <td>0.0</td>\n",
       "      <td>0.0</td>\n",
       "      <td>24.0</td>\n",
       "    </tr>\n",
       "    <tr>\n",
       "      <th>Product_Pages</th>\n",
       "      <td>9999.0</td>\n",
       "      <td>31.685869</td>\n",
       "      <td>44.550277</td>\n",
       "      <td>0.0</td>\n",
       "      <td>7.0</td>\n",
       "      <td>18.0</td>\n",
       "      <td>38.0</td>\n",
       "      <td>705.0</td>\n",
       "    </tr>\n",
       "  </tbody>\n",
       "</table>\n",
       "</div>"
      ],
      "text/plain": [
       "                   count       mean        std  min  25%   50%   75%    max\n",
       "AccountMng_Pages  9999.0   2.324232   3.340676  0.0  0.0   1.0   4.0   27.0\n",
       "FAQ_Pages         9999.0   0.508051   1.279390  0.0  0.0   0.0   0.0   24.0\n",
       "Product_Pages     9999.0  31.685869  44.550277  0.0  7.0  18.0  38.0  705.0"
      ]
     },
     "execution_count": 57,
     "metadata": {},
     "output_type": "execute_result"
    }
   ],
   "source": [
    "# Let's see if data has outliers --> we can remove a maximum of 3% (300 observations) \n",
    "\n",
    "techscape[['AccountMng_Pages', 'FAQ_Pages', 'Product_Pages']].describe().T\n",
    "\n",
    "# AccountMng_Pages appears to have outliers\n",
    "# Same with FAQ_Pages\n",
    "# Product_Pages definitely has outliers"
   ]
  },
  {
   "cell_type": "code",
   "execution_count": 68,
   "metadata": {},
   "outputs": [
    {
     "data": {
      "text/plain": [
       "{'whiskers': [<matplotlib.lines.Line2D at 0x27da9ea82b0>,\n",
       "  <matplotlib.lines.Line2D at 0x27da9ea8610>],\n",
       " 'caps': [<matplotlib.lines.Line2D at 0x27da9ea8970>,\n",
       "  <matplotlib.lines.Line2D at 0x27da9ea8cd0>],\n",
       " 'boxes': [<matplotlib.lines.Line2D at 0x27da9e9aee0>],\n",
       " 'medians': [<matplotlib.lines.Line2D at 0x27da9eb3070>],\n",
       " 'fliers': [<matplotlib.lines.Line2D at 0x27da9eb33d0>],\n",
       " 'means': []}"
      ]
     },
     "execution_count": 68,
     "metadata": {},
     "output_type": "execute_result"
    },
    {
     "data": {
      "image/png": "[encoded data removed]",
      "text/plain": [
       "<Figure size 432x288 with 1 Axes>"
      ]
     },
     "metadata": {
      "needs_background": "light"
     },
     "output_type": "display_data"
    }
   ],
   "source": [
    "#plt.boxplot(x=techscape['AccountMng_Pages'])\n",
    "#plt.boxplot(x=techscape['FAQ_Pages'])\n",
    "plt.boxplot(x=techscape['Product_Pages'])"
   ]
  },
  {
   "cell_type": "code",
   "execution_count": 58,
   "metadata": {},
   "outputs": [
    {
     "data": {
      "text/html": [
       "<div>\n",
       "<style scoped>\n",
       "    .dataframe tbody tr th:only-of-type {\n",
       "        vertical-align: middle;\n",
       "    }\n",
       "\n",
       "    .dataframe tbody tr th {\n",
       "        vertical-align: top;\n",
       "    }\n",
       "\n",
       "    .dataframe thead th {\n",
       "        text-align: right;\n",
       "    }\n",
       "</style>\n",
       "<table border=\"1\" class=\"dataframe\">\n",
       "  <thead>\n",
       "    <tr style=\"text-align: right;\">\n",
       "      <th></th>\n",
       "      <th>count</th>\n",
       "      <th>mean</th>\n",
       "      <th>std</th>\n",
       "      <th>min</th>\n",
       "      <th>25%</th>\n",
       "      <th>50%</th>\n",
       "      <th>75%</th>\n",
       "      <th>max</th>\n",
       "    </tr>\n",
       "  </thead>\n",
       "  <tbody>\n",
       "    <tr>\n",
       "      <th>AccountMng_Duration</th>\n",
       "      <td>9999.0</td>\n",
       "      <td>81.205854</td>\n",
       "      <td>179.715545</td>\n",
       "      <td>0.0</td>\n",
       "      <td>0.0000</td>\n",
       "      <td>7.5</td>\n",
       "      <td>92.20835</td>\n",
       "      <td>3398.7500</td>\n",
       "    </tr>\n",
       "    <tr>\n",
       "      <th>FAQ_Duration</th>\n",
       "      <td>9999.0</td>\n",
       "      <td>34.559101</td>\n",
       "      <td>139.796989</td>\n",
       "      <td>0.0</td>\n",
       "      <td>0.0000</td>\n",
       "      <td>0.0</td>\n",
       "      <td>0.00000</td>\n",
       "      <td>2549.3750</td>\n",
       "    </tr>\n",
       "    <tr>\n",
       "      <th>Product_Duration</th>\n",
       "      <td>9999.0</td>\n",
       "      <td>1199.769430</td>\n",
       "      <td>1958.276304</td>\n",
       "      <td>0.0</td>\n",
       "      <td>183.5625</td>\n",
       "      <td>599.0</td>\n",
       "      <td>1470.27080</td>\n",
       "      <td>63973.5222</td>\n",
       "    </tr>\n",
       "  </tbody>\n",
       "</table>\n",
       "</div>"
      ],
      "text/plain": [
       "                      count         mean          std  min       25%    50%  \\\n",
       "AccountMng_Duration  9999.0    81.205854   179.715545  0.0    0.0000    7.5   \n",
       "FAQ_Duration         9999.0    34.559101   139.796989  0.0    0.0000    0.0   \n",
       "Product_Duration     9999.0  1199.769430  1958.276304  0.0  183.5625  599.0   \n",
       "\n",
       "                            75%         max  \n",
       "AccountMng_Duration    92.20835   3398.7500  \n",
       "FAQ_Duration            0.00000   2549.3750  \n",
       "Product_Duration     1470.27080  63973.5222  "
      ]
     },
     "execution_count": 58,
     "metadata": {},
     "output_type": "execute_result"
    }
   ],
   "source": [
    "techscape[['AccountMng_Duration', 'FAQ_Duration', 'Product_Duration']].describe().T\n",
    "\n",
    "# Same logic here"
   ]
  },
  {
   "cell_type": "code",
   "execution_count": 59,
   "metadata": {},
   "outputs": [
    {
     "data": {
      "text/html": [
       "<div>\n",
       "<style scoped>\n",
       "    .dataframe tbody tr th:only-of-type {\n",
       "        vertical-align: middle;\n",
       "    }\n",
       "\n",
       "    .dataframe tbody tr th {\n",
       "        vertical-align: top;\n",
       "    }\n",
       "\n",
       "    .dataframe thead th {\n",
       "        text-align: right;\n",
       "    }\n",
       "</style>\n",
       "<table border=\"1\" class=\"dataframe\">\n",
       "  <thead>\n",
       "    <tr style=\"text-align: right;\">\n",
       "      <th></th>\n",
       "      <th>count</th>\n",
       "      <th>mean</th>\n",
       "      <th>std</th>\n",
       "      <th>min</th>\n",
       "      <th>25%</th>\n",
       "      <th>50%</th>\n",
       "      <th>75%</th>\n",
       "      <th>max</th>\n",
       "    </tr>\n",
       "  </thead>\n",
       "  <tbody>\n",
       "    <tr>\n",
       "      <th>GoogleAnalytics_BounceRate</th>\n",
       "      <td>9999.0</td>\n",
       "      <td>0.022305</td>\n",
       "      <td>0.048776</td>\n",
       "      <td>0.0</td>\n",
       "      <td>0.0000</td>\n",
       "      <td>0.0032</td>\n",
       "      <td>0.0168</td>\n",
       "      <td>0.2000</td>\n",
       "    </tr>\n",
       "    <tr>\n",
       "      <th>GoogleAnalytics_ExitRate</th>\n",
       "      <td>9999.0</td>\n",
       "      <td>0.043181</td>\n",
       "      <td>0.048845</td>\n",
       "      <td>0.0</td>\n",
       "      <td>0.0143</td>\n",
       "      <td>0.0251</td>\n",
       "      <td>0.0500</td>\n",
       "      <td>0.2000</td>\n",
       "    </tr>\n",
       "    <tr>\n",
       "      <th>GoogleAnalytics_PageValue</th>\n",
       "      <td>9999.0</td>\n",
       "      <td>5.963120</td>\n",
       "      <td>18.753626</td>\n",
       "      <td>0.0</td>\n",
       "      <td>0.0000</td>\n",
       "      <td>0.0000</td>\n",
       "      <td>0.0000</td>\n",
       "      <td>361.7637</td>\n",
       "    </tr>\n",
       "    <tr>\n",
       "      <th>Browser</th>\n",
       "      <td>9999.0</td>\n",
       "      <td>2.352535</td>\n",
       "      <td>1.715698</td>\n",
       "      <td>1.0</td>\n",
       "      <td>2.0000</td>\n",
       "      <td>2.0000</td>\n",
       "      <td>2.0000</td>\n",
       "      <td>13.0000</td>\n",
       "    </tr>\n",
       "    <tr>\n",
       "      <th>Type_of_Traffic</th>\n",
       "      <td>9999.0</td>\n",
       "      <td>3.957496</td>\n",
       "      <td>3.675159</td>\n",
       "      <td>1.0</td>\n",
       "      <td>2.0000</td>\n",
       "      <td>2.0000</td>\n",
       "      <td>4.0000</td>\n",
       "      <td>15.0000</td>\n",
       "    </tr>\n",
       "  </tbody>\n",
       "</table>\n",
       "</div>"
      ],
      "text/plain": [
       "                             count      mean        std  min     25%     50%  \\\n",
       "GoogleAnalytics_BounceRate  9999.0  0.022305   0.048776  0.0  0.0000  0.0032   \n",
       "GoogleAnalytics_ExitRate    9999.0  0.043181   0.048845  0.0  0.0143  0.0251   \n",
       "GoogleAnalytics_PageValue   9999.0  5.963120  18.753626  0.0  0.0000  0.0000   \n",
       "Browser                     9999.0  2.352535   1.715698  1.0  2.0000  2.0000   \n",
       "Type_of_Traffic             9999.0  3.957496   3.675159  1.0  2.0000  2.0000   \n",
       "\n",
       "                               75%       max  \n",
       "GoogleAnalytics_BounceRate  0.0168    0.2000  \n",
       "GoogleAnalytics_ExitRate    0.0500    0.2000  \n",
       "GoogleAnalytics_PageValue   0.0000  361.7637  \n",
       "Browser                     2.0000   13.0000  \n",
       "Type_of_Traffic             4.0000   15.0000  "
      ]
     },
     "execution_count": 59,
     "metadata": {},
     "output_type": "execute_result"
    }
   ],
   "source": [
    "techscape[['GoogleAnalytics_BounceRate', 'GoogleAnalytics_ExitRate', 'GoogleAnalytics_PageValue', 'Browser', 'Type_of_Traffic']].describe().T\n",
    "\n",
    "# GoogleAnalytics_PageValue appear to have outliers"
   ]
  },
  {
   "cell_type": "code",
   "execution_count": 63,
   "metadata": {},
   "outputs": [
    {
     "data": {
      "text/plain": [
       "{'whiskers': [<matplotlib.lines.Line2D at 0x27da9cb9580>,\n",
       "  <matplotlib.lines.Line2D at 0x27da9cb9910>],\n",
       " 'caps': [<matplotlib.lines.Line2D at 0x27da9cb9c70>,\n",
       "  <matplotlib.lines.Line2D at 0x27da9cb9fd0>],\n",
       " 'boxes': [<matplotlib.lines.Line2D at 0x27da9cb9220>],\n",
       " 'medians': [<matplotlib.lines.Line2D at 0x27da9cc2370>],\n",
       " 'fliers': [<matplotlib.lines.Line2D at 0x27da9cc26d0>],\n",
       " 'means': []}"
      ]
     },
     "execution_count": 63,
     "metadata": {},
     "output_type": "execute_result"
    },
    {
     "data": {
      "image/png": "[encoded data removed]",
      "text/plain": [
       "<Figure size 432x288 with 1 Axes>"
      ]
     },
     "metadata": {
      "needs_background": "light"
     },
     "output_type": "display_data"
    }
   ],
   "source": []
  },
  {
   "cell_type": "code",
   "execution_count": 51,
   "metadata": {
    "ExecuteTime": {
     "end_time": "2020-10-30T11:01:49.879930Z",
     "start_time": "2020-10-30T11:01:49.875040Z"
    }
   },
   "outputs": [],
   "source": [
    "# Define data as all the independent variable\n",
    "data = techscape.drop(['Buy'], axis=1)\n",
    "# Define target as the dependent variable\n",
    "target = techscape['Buy']"
   ]
  },
  {
   "cell_type": "code",
   "execution_count": 50,
   "metadata": {
    "ExecuteTime": {
     "end_time": "2020-10-30T11:01:49.914801Z",
     "start_time": "2020-10-30T11:01:49.902714Z"
    }
   },
   "outputs": [],
   "source": [
    "from sklearn.model_selection import train_test_split\n",
    "X_train, X_val, y_train, y_val = train_test_split(data, target, train_size=0.75, stratify = target, random_state=5)\n",
    "# Train 0.75 || Valid 0.25\n",
    "# Stratify so we have the same values in target in the train and val datasets"
   ]
  },
  {
   "cell_type": "code",
   "execution_count": null,
   "metadata": {},
   "outputs": [],
   "source": []
  }
 ],
 "metadata": {
  "kernelspec": {
   "display_name": "Python 3",
   "language": "python",
   "name": "python3"
  },
  "language_info": {
   "codemirror_mode": {
    "name": "ipython",
    "version": 3
   },
   "file_extension": ".py",
   "mimetype": "text/x-python",
   "name": "python",
   "nbconvert_exporter": "python",
   "pygments_lexer": "ipython3",
   "version": "3.8.5"
  },
  "toc": {
   "base_numbering": 1,
   "nav_menu": {},
   "number_sections": true,
   "sideBar": true,
   "skip_h1_title": false,
   "title_cell": "Table of Contents",
   "title_sidebar": "Contents",
   "toc_cell": false,
   "toc_position": {},
   "toc_section_display": true,
   "toc_window_display": false
  },
  "varInspector": {
   "cols": {
    "lenName": 16,
    "lenType": 16,
    "lenVar": 40
   },
   "kernels_config": {
    "python": {
     "delete_cmd_postfix": "",
     "delete_cmd_prefix": "del ",
     "library": "var_list.py",
     "varRefreshCmd": "print(var_dic_list())"
    },
    "r": {
     "delete_cmd_postfix": ") ",
     "delete_cmd_prefix": "rm(",
     "library": "var_list.r",
     "varRefreshCmd": "cat(var_dic_list()) "
    }
   },
   "types_to_exclude": [
    "module",
    "function",
    "builtin_function_or_method",
    "instance",
    "_Feature"
   ],
   "window_display": false
  }
 },
 "nbformat": 4,
 "nbformat_minor": 2
}
